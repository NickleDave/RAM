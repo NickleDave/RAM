{
 "cells": [
  {
   "cell_type": "code",
   "execution_count": 1,
   "metadata": {},
   "outputs": [],
   "source": [
    "import tensorflow as tf\n",
    "import numpy as np\n",
    "import matplotlib.pyplot as plt\n",
    "import IPython\n",
    "%matplotlib inline\n",
    "\n",
    "import ram\n",
    "import ram.mnist.dataset"
   ]
  },
  {
   "cell_type": "code",
   "execution_count": 2,
   "metadata": {},
   "outputs": [],
   "source": [
    "tf.enable_eager_execution()"
   ]
  },
  {
   "cell_type": "code",
   "execution_count": 3,
   "metadata": {
    "scrolled": true
   },
   "outputs": [],
   "source": [
    "data = ram.mnist.dataset.train(directory='/home/art/Documents/data/mnist/raw', num_samples=1000)\n",
    "config = ram.parse_config()\n"
   ]
  },
  {
   "cell_type": "code",
   "execution_count": 4,
   "metadata": {},
   "outputs": [],
   "source": [
    "trainer = ram.Trainer(config=config,\n",
    "                     data=data)"
   ]
  },
  {
   "cell_type": "code",
   "execution_count": null,
   "metadata": {},
   "outputs": [
    {
     "name": "stderr",
     "output_type": "stream",
     "text": [
      "\r",
      "  0%|          | 0/1000 [00:00<?, ?it/s]"
     ]
    },
    {
     "name": "stdout",
     "output_type": "stream",
     "text": [
      "config.train.resume is False,\n",
      "will save new model and optimizer to checkpoint: ./ckpt\n",
      "\n",
      "Epoch: 1/200 - learning rate: 0.001000\n"
     ]
    },
    {
     "name": "stderr",
     "output_type": "stream",
     "text": [
      "23.3s - hybrid loss: 1.024 - acc: 10.000: 100%|██████████| 1000/1000 [00:23<00:00, 42.20it/s]\n",
      "  0%|          | 0/1000 [00:00<?, ?it/s]"
     ]
    },
    {
     "name": "stdout",
     "output_type": "stream",
     "text": [
      "mean accuracy: 8.9\n",
      "mean losses: LossTuple(loss_reinforce=-0.9882811, loss_baseline=0.089139394, loss_action=2.3044271, loss_hybrid=1.4052855)\n",
      "\n",
      "Epoch: 2/200 - learning rate: 0.001000\n"
     ]
    },
    {
     "name": "stderr",
     "output_type": "stream",
     "text": [
      "24.2s - hybrid loss: 1.699 - acc: 10.000: 100%|██████████| 1000/1000 [00:24<00:00, 41.83it/s]\n",
      "  0%|          | 0/1000 [00:00<?, ?it/s]"
     ]
    },
    {
     "name": "stdout",
     "output_type": "stream",
     "text": [
      "mean accuracy: 9.6\n",
      "mean losses: LossTuple(loss_reinforce=-1.1198963, loss_baseline=0.096, loss_action=2.303755, loss_hybrid=1.2798587)\n",
      "\n",
      "Epoch: 3/200 - learning rate: 0.001000\n"
     ]
    },
    {
     "name": "stderr",
     "output_type": "stream",
     "text": [
      "24.3s - hybrid loss: 1.033 - acc: 10.000: 100%|██████████| 1000/1000 [00:24<00:00, 40.29it/s]\n",
      "  0%|          | 0/1000 [00:00<?, ?it/s]"
     ]
    },
    {
     "name": "stdout",
     "output_type": "stream",
     "text": [
      "mean accuracy: 10.3\n",
      "mean losses: LossTuple(loss_reinforce=-1.1911132, loss_baseline=0.10300002, loss_action=2.3018677, loss_hybrid=1.2137543)\n",
      "\n",
      "Epoch: 4/200 - learning rate: 0.001000\n"
     ]
    },
    {
     "name": "stderr",
     "output_type": "stream",
     "text": [
      "25.6s - hybrid loss: 1.471 - acc: 10.000: 100%|██████████| 1000/1000 [00:25<00:00, 39.03it/s]\n",
      "  0%|          | 0/1000 [00:00<?, ?it/s]"
     ]
    },
    {
     "name": "stdout",
     "output_type": "stream",
     "text": [
      "mean accuracy: 11.0\n",
      "mean losses: LossTuple(loss_reinforce=-1.29873, loss_baseline=0.11, loss_action=2.3012986, loss_hybrid=1.1125686)\n",
      "\n",
      "Epoch: 5/200 - learning rate: 0.001000\n"
     ]
    },
    {
     "name": "stderr",
     "output_type": "stream",
     "text": [
      "23.9s - hybrid loss: 0.969 - acc: 10.000: 100%|██████████| 1000/1000 [00:23<00:00, 41.86it/s]\n",
      "  0%|          | 0/1000 [00:00<?, ?it/s]"
     ]
    },
    {
     "name": "stdout",
     "output_type": "stream",
     "text": [
      "mean accuracy: 10.9\n",
      "mean losses: LossTuple(loss_reinforce=-1.2478623, loss_baseline=0.10900001, loss_action=2.300241, loss_hybrid=1.1613785)\n",
      "\n",
      "Epoch: 6/200 - learning rate: 0.001000\n"
     ]
    },
    {
     "name": "stderr",
     "output_type": "stream",
     "text": [
      "24.1s - hybrid loss: 0.960 - acc: 10.000: 100%|██████████| 1000/1000 [00:24<00:00, 40.89it/s]\n",
      "  0%|          | 0/1000 [00:00<?, ?it/s]"
     ]
    },
    {
     "name": "stdout",
     "output_type": "stream",
     "text": [
      "mean accuracy: 10.6\n",
      "mean losses: LossTuple(loss_reinforce=-1.2886033, loss_baseline=0.10600001, loss_action=2.3003497, loss_hybrid=1.1177462)\n",
      "\n",
      "Epoch: 7/200 - learning rate: 0.001000\n"
     ]
    },
    {
     "name": "stderr",
     "output_type": "stream",
     "text": [
      "22.9s - hybrid loss: 1.111 - acc: 10.000: 100%|██████████| 1000/1000 [00:22<00:00, 43.80it/s]\n",
      "  0%|          | 0/1000 [00:00<?, ?it/s]"
     ]
    },
    {
     "name": "stdout",
     "output_type": "stream",
     "text": [
      "mean accuracy: 10.2\n",
      "mean losses: LossTuple(loss_reinforce=-1.2058154, loss_baseline=0.102000006, loss_action=2.2993584, loss_hybrid=1.1955429)\n",
      "\n",
      "Epoch: 8/200 - learning rate: 0.001000\n"
     ]
    },
    {
     "name": "stderr",
     "output_type": "stream",
     "text": [
      "23.2s - hybrid loss: 1.062 - acc: 10.000: 100%|██████████| 1000/1000 [00:23<00:00, 41.20it/s]\n",
      "  0%|          | 0/1000 [00:00<?, ?it/s]"
     ]
    },
    {
     "name": "stdout",
     "output_type": "stream",
     "text": [
      "mean accuracy: 12.1\n",
      "mean losses: LossTuple(loss_reinforce=-1.4830852, loss_baseline=0.121000014, loss_action=2.2989135, loss_hybrid=0.93682826)\n",
      "\n",
      "Epoch: 9/200 - learning rate: 0.001000\n"
     ]
    },
    {
     "name": "stderr",
     "output_type": "stream",
     "text": [
      "23.3s - hybrid loss: 1.047 - acc: 10.000: 100%|██████████| 1000/1000 [00:23<00:00, 42.46it/s]\n",
      "  0%|          | 0/1000 [00:00<?, ?it/s]"
     ]
    },
    {
     "name": "stdout",
     "output_type": "stream",
     "text": [
      "mean accuracy: 13.5\n",
      "mean losses: LossTuple(loss_reinforce=-1.6396495, loss_baseline=0.135, loss_action=2.2982535, loss_hybrid=0.79360414)\n",
      "\n",
      "Epoch: 10/200 - learning rate: 0.001000\n"
     ]
    },
    {
     "name": "stderr",
     "output_type": "stream",
     "text": [
      "23.1s - hybrid loss: 1.179 - acc: 10.000: 100%|██████████| 1000/1000 [00:23<00:00, 41.78it/s]\n",
      "  0%|          | 0/1000 [00:00<?, ?it/s]"
     ]
    },
    {
     "name": "stdout",
     "output_type": "stream",
     "text": [
      "mean accuracy: 12.1\n",
      "mean losses: LossTuple(loss_reinforce=-1.4597571, loss_baseline=0.12100002, loss_action=2.2979064, loss_hybrid=0.9591492)\n",
      "\n",
      "Epoch: 11/200 - learning rate: 0.001000\n"
     ]
    },
    {
     "name": "stderr",
     "output_type": "stream",
     "text": [
      "23.8s - hybrid loss: 1.233 - acc: 10.000: 100%|██████████| 1000/1000 [00:23<00:00, 40.85it/s]\n",
      "  0%|          | 0/1000 [00:00<?, ?it/s]"
     ]
    },
    {
     "name": "stdout",
     "output_type": "stream",
     "text": [
      "mean accuracy: 14.3\n",
      "mean losses: LossTuple(loss_reinforce=-1.7003505, loss_baseline=0.143, loss_action=2.2970426, loss_hybrid=0.7396925)\n",
      "\n",
      "Epoch: 12/200 - learning rate: 0.001000\n"
     ]
    },
    {
     "name": "stderr",
     "output_type": "stream",
     "text": [
      "24.5s - hybrid loss: 0.964 - acc: 10.000: 100%|██████████| 1000/1000 [00:24<00:00, 42.03it/s]\n",
      "  0%|          | 0/1000 [00:00<?, ?it/s]"
     ]
    },
    {
     "name": "stdout",
     "output_type": "stream",
     "text": [
      "mean accuracy: 15.1\n",
      "mean losses: LossTuple(loss_reinforce=-1.7849174, loss_baseline=0.15100001, loss_action=2.2966347, loss_hybrid=0.6627175)\n",
      "\n",
      "Epoch: 13/200 - learning rate: 0.001000\n"
     ]
    },
    {
     "name": "stderr",
     "output_type": "stream",
     "text": [
      "23.6s - hybrid loss: -0.273 - acc: 20.000: 100%|██████████| 1000/1000 [00:23<00:00, 42.11it/s]\n",
      "  0%|          | 0/1000 [00:00<?, ?it/s]"
     ]
    },
    {
     "name": "stdout",
     "output_type": "stream",
     "text": [
      "mean accuracy: 16.1\n",
      "mean losses: LossTuple(loss_reinforce=-1.9187349, loss_baseline=0.16100003, loss_action=2.2960489, loss_hybrid=0.5383139)\n",
      "\n",
      "Epoch: 14/200 - learning rate: 0.001000\n"
     ]
    },
    {
     "name": "stderr",
     "output_type": "stream",
     "text": [
      "23.6s - hybrid loss: 1.147 - acc: 10.000: 100%|██████████| 1000/1000 [00:23<00:00, 46.39it/s]\n",
      "  0%|          | 0/1000 [00:00<?, ?it/s]"
     ]
    },
    {
     "name": "stdout",
     "output_type": "stream",
     "text": [
      "mean accuracy: 16.5\n",
      "mean losses: LossTuple(loss_reinforce=-1.9999253, loss_baseline=0.16500004, loss_action=2.295819, loss_hybrid=0.46089363)\n",
      "\n",
      "Epoch: 15/200 - learning rate: 0.001000\n"
     ]
    },
    {
     "name": "stderr",
     "output_type": "stream",
     "text": [
      "23.2s - hybrid loss: -0.139 - acc: 20.000: 100%|██████████| 1000/1000 [00:23<00:00, 44.28it/s]\n",
      "  0%|          | 0/1000 [00:00<?, ?it/s]"
     ]
    },
    {
     "name": "stdout",
     "output_type": "stream",
     "text": [
      "mean accuracy: 17.1\n",
      "mean losses: LossTuple(loss_reinforce=-2.0674632, loss_baseline=0.171, loss_action=2.2953994, loss_hybrid=0.39893615)\n",
      "\n",
      "Epoch: 16/200 - learning rate: 0.001000\n"
     ]
    },
    {
     "name": "stderr",
     "output_type": "stream",
     "text": [
      "23.3s - hybrid loss: 2.301 - acc: 0.000: 100%|██████████| 1000/1000 [00:23<00:00, 45.20it/s] \n",
      "  0%|          | 0/1000 [00:00<?, ?it/s]"
     ]
    },
    {
     "name": "stdout",
     "output_type": "stream",
     "text": [
      "mean accuracy: 20.2\n",
      "mean losses: LossTuple(loss_reinforce=-2.4228399, loss_baseline=0.20200002, loss_action=2.2946224, loss_hybrid=0.073782586)\n",
      "\n",
      "Epoch: 17/200 - learning rate: 0.001000\n"
     ]
    },
    {
     "name": "stderr",
     "output_type": "stream",
     "text": [
      "22.7s - hybrid loss: 1.430 - acc: 10.000: 100%|██████████| 1000/1000 [00:22<00:00, 45.93it/s]\n",
      "  0%|          | 0/1000 [00:00<?, ?it/s]"
     ]
    },
    {
     "name": "stdout",
     "output_type": "stream",
     "text": [
      "mean accuracy: 18.3\n",
      "mean losses: LossTuple(loss_reinforce=-2.19747, loss_baseline=0.18300003, loss_action=2.2936966, loss_hybrid=0.27922666)\n",
      "\n",
      "Epoch: 18/200 - learning rate: 0.001000\n"
     ]
    },
    {
     "name": "stderr",
     "output_type": "stream",
     "text": [
      "23.3s - hybrid loss: 0.350 - acc: 20.000: 100%|██████████| 1000/1000 [00:23<00:00, 42.82it/s]\n",
      "  0%|          | 0/1000 [00:00<?, ?it/s]"
     ]
    },
    {
     "name": "stdout",
     "output_type": "stream",
     "text": [
      "mean accuracy: 21.7\n",
      "mean losses: LossTuple(loss_reinforce=-2.5929725, loss_baseline=0.21700001, loss_action=2.2931156, loss_hybrid=-0.082856715)\n",
      "\n",
      "Epoch: 19/200 - learning rate: 0.001000\n"
     ]
    },
    {
     "name": "stderr",
     "output_type": "stream",
     "text": [
      "23.6s - hybrid loss: 1.291 - acc: 10.000: 100%|██████████| 1000/1000 [00:23<00:00, 39.62it/s]\n",
      "  0%|          | 0/1000 [00:00<?, ?it/s]"
     ]
    },
    {
     "name": "stdout",
     "output_type": "stream",
     "text": [
      "mean accuracy: 20.8\n",
      "mean losses: LossTuple(loss_reinforce=-2.4480832, loss_baseline=0.20800003, loss_action=2.2932422, loss_hybrid=0.053159107)\n",
      "\n",
      "Epoch: 20/200 - learning rate: 0.001000\n"
     ]
    },
    {
     "name": "stderr",
     "output_type": "stream",
     "text": [
      "24.1s - hybrid loss: 1.229 - acc: 10.000: 100%|██████████| 1000/1000 [00:24<00:00, 39.16it/s]\n",
      "  0%|          | 0/1000 [00:00<?, ?it/s]"
     ]
    },
    {
     "name": "stdout",
     "output_type": "stream",
     "text": [
      "mean accuracy: 20.8\n",
      "mean losses: LossTuple(loss_reinforce=-2.459755, loss_baseline=0.208, loss_action=2.2922797, loss_hybrid=0.040524647)\n",
      "\n",
      "Epoch: 21/200 - learning rate: 0.001000\n"
     ]
    }
   ],
   "source": [
    "\n",
    "trainer.train()"
   ]
  },
  {
   "cell_type": "code",
   "execution_count": null,
   "metadata": {},
   "outputs": [],
   "source": [
    "acc, loss_tup = trainer._train_one_epoch()\n",
    "\n"
   ]
  },
  {
   "cell_type": "code",
   "execution_count": null,
   "metadata": {},
   "outputs": [],
   "source": [
    "print(\"Loss at step {:03d}: {:.3f}\".format(1, loss_tup.loss_reinforce))"
   ]
  },
  {
   "cell_type": "code",
   "execution_count": null,
   "metadata": {},
   "outputs": [],
   "source": [
    "tf.equal?"
   ]
  },
  {
   "cell_type": "code",
   "execution_count": null,
   "metadata": {},
   "outputs": [],
   "source": []
  }
 ],
 "metadata": {
  "kernelspec": {
   "display_name": "Python 3",
   "language": "python",
   "name": "python3"
  },
  "language_info": {
   "codemirror_mode": {
    "name": "ipython",
    "version": 3
   },
   "file_extension": ".py",
   "mimetype": "text/x-python",
   "name": "python",
   "nbconvert_exporter": "python",
   "pygments_lexer": "ipython3",
   "version": "3.6.6"
  }
 },
 "nbformat": 4,
 "nbformat_minor": 2
}
