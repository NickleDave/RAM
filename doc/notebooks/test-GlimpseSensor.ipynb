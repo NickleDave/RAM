{
 "cells": [
  {
   "cell_type": "code",
   "execution_count": 37,
   "metadata": {},
   "outputs": [],
   "source": [
    "import tensorflow as tf\n",
    "import numpy as np\n",
    "import matplotlib.pyplot as plt\n",
    "%matplotlib inline"
   ]
  },
  {
   "cell_type": "code",
   "execution_count": 2,
   "metadata": {},
   "outputs": [],
   "source": [
    "tf.enable_eager_execution()"
   ]
  },
  {
   "cell_type": "code",
   "execution_count": 3,
   "metadata": {},
   "outputs": [],
   "source": [
    "mnist = tf.keras.datasets.mnist.load_data(path='/home/art/Documents/data/mnist.npz')"
   ]
  },
  {
   "cell_type": "code",
   "execution_count": 4,
   "metadata": {},
   "outputs": [],
   "source": [
    "((x_train, y_train), (x_test, y_test)) = mnist"
   ]
  },
  {
   "cell_type": "code",
   "execution_count": 5,
   "metadata": {},
   "outputs": [],
   "source": [
    "batch_size = 10"
   ]
  },
  {
   "cell_type": "code",
   "execution_count": 6,
   "metadata": {},
   "outputs": [],
   "source": [
    "loc_normd = tf.random_uniform((batch_size, 2), minval=-1, maxval=1)"
   ]
  },
  {
   "cell_type": "code",
   "execution_count": 7,
   "metadata": {},
   "outputs": [],
   "source": [
    "img = x_train[:batch_size, :, :, np.newaxis]"
   ]
  },
  {
   "cell_type": "code",
   "execution_count": 32,
   "metadata": {},
   "outputs": [],
   "source": [
    "class GlimpseSensor(tf.keras.Model):\n",
    "    \"\"\"glimpse sensor, returns retina-like representation rho\n",
    "    of a region of an image x, given a location l to 'fixate'.\n",
    "    \"\"\"\n",
    "\n",
    "    def __init__(self, g_w=8, k=3, s=2):\n",
    "        \"\"\"__init__ for GlimpseSensor\n",
    "\n",
    "        Parameters\n",
    "        ----------\n",
    "        g_w : int\n",
    "            length of one side of square patches in glimpses extracted by glimpse sensor.\n",
    "            Default is 8.\n",
    "        k : int\n",
    "            number of patches that the retina encoding rho(x,l) extracts\n",
    "            at location l from image x. Default is 3.\n",
    "        s : int\n",
    "            scaling factor, controls size of successive patches. Default is 2.\n",
    "        \"\"\"\n",
    "        super(GlimpseSensor, self).__init__()\n",
    "        self.g_w = g_w\n",
    "        self.k = k\n",
    "        self.s = s\n",
    "\n",
    "    def glimpse(self, images, loc_normd):\n",
    "        \"\"\"take a \"glimpse\" of a batch of images.\n",
    "        Returns retina-like representation rho(img, loc)\n",
    "        consisting of patches from each image.\n",
    "\n",
    "        Parameters\n",
    "        ----------\n",
    "        images : tf.Tensor\n",
    "            with shape (B, H, W, C). Minibatch of images.\n",
    "        loc_normd : tf.Tensor\n",
    "            with shape (B, 2). Location of retina \"fixation\",\n",
    "            in normalized co-ordinates where center of image is (0,0),\n",
    "            upper left corner is (-1,-1), and lower right corner is (1,1).\n",
    "\n",
    "        Returns\n",
    "        -------\n",
    "        rho : tf.Tensor\n",
    "            with shape (B, k, g_w, g_w,\n",
    "            retina-like representation of k patches of increasing size\n",
    "            and decreasing resolution, centered around location loc within\n",
    "            image img\n",
    "        \"\"\"\n",
    "        batch_size, img_H, img_W, C = images.shape\n",
    "        # convert image co-ordinates from normalized to co-ordinates within\n",
    "        # the specific size of the images\n",
    "        loc_0 = ((loc_normd[:, 0] + 1) / 2) * img_H\n",
    "        loc_0 = tf.cast(tf.round(loc_0), tf.int32)\n",
    "        loc_1 = ((loc_normd[:, 1] + 1) / 2) * img_W\n",
    "        loc_1 = tf.cast(tf.round(loc_1), tf.int32)\n",
    "        loc = tf.stack([loc_0, loc_1], axis=1)\n",
    "\n",
    "        rho = []\n",
    "        for ind in range(batch_size):\n",
    "            img = images[ind, :, :, :]\n",
    "            patches = []\n",
    "            for patch_num in range(self.k):\n",
    "                size = self.g_w * (self.s ** patch_num)\n",
    "\n",
    "                # pad image with zeros\n",
    "                # (in case patch at current location extends beyond edges of image)\n",
    "                img_padded = tf.image.pad_to_bounding_box(img,\n",
    "                                                          offset_height=size,\n",
    "                                                          offset_width=size,\n",
    "                                                          target_height=(size * 2) + img_H,\n",
    "                                                          target_width=(size * 2) + img_W)\n",
    "\n",
    "                # compute top left corner of patch\n",
    "                patch_x = loc[ind, 0] - (size // 2) + size\n",
    "                patch_y = loc[ind, 1] - (size // 2) + size\n",
    "\n",
    "                patch = tf.slice(img_padded,\n",
    "                                 begin=tf.stack([patch_x, patch_y, 0]),\n",
    "                                 size=tf.stack([size, size, C])\n",
    "                                 )\n",
    "                if size == self.g_w:\n",
    "                    # convert to float32 to be consistent with\n",
    "                    # tensors output after resizing\n",
    "                    patch = tf.cast(patch, dtype=tf.float32)\n",
    "                else:\n",
    "                    # resize cropped image to (size x size)\n",
    "                    patch = tf.image.resize_images(patch, size=(self.g_w, self.g_w))\n",
    "                patches.append(patch)\n",
    "\n",
    "            rho.append(patches)\n",
    "\n",
    "        rho = tf.stack(rho)\n",
    "        return rho\n"
   ]
  },
  {
   "cell_type": "code",
   "execution_count": 33,
   "metadata": {},
   "outputs": [],
   "source": [
    "sensor = GlimpseSensor()"
   ]
  },
  {
   "cell_type": "code",
   "execution_count": 35,
   "metadata": {},
   "outputs": [],
   "source": [
    "rho = sensor.glimpse(img, loc_normd)"
   ]
  },
  {
   "cell_type": "code",
   "execution_count": 43,
   "metadata": {},
   "outputs": [
    {
     "data": {
      "text/plain": [
       "TensorShape([Dimension(8), Dimension(8)])"
      ]
     },
     "execution_count": 43,
     "metadata": {},
     "output_type": "execute_result"
    }
   ],
   "source": [
    "tf.squeeze(rho[ind, 0, :, :, :]).shape"
   ]
  },
  {
   "cell_type": "code",
   "execution_count": 46,
   "metadata": {},
   "outputs": [
    {
     "data": {
      "image/png": "[encoded data removed]",
      "text/plain": [
       "<Figure size 720x720 with 15 Axes>"
      ]
     },
     "metadata": {},
     "output_type": "display_data"
    }
   ],
   "source": [
    "# plot some patches as a sanity check\n",
    "fig, ax = plt.subplots(5, 3)\n",
    "fig.set_size_inches(10, 10)\n",
    "for ind in range(5):\n",
    "    ax[ind, 0].pcolormesh(tf.squeeze(rho[ind, 0, :, :, :]), cmap='gray')\n",
    "    ax[ind, 1].pcolormesh(tf.squeeze(rho[ind, 1, :, :, :]), cmap='gray')\n",
    "    ax[ind, 2].pcolormesh(tf.squeeze(rho[ind, 2, :, :, :]), cmap='gray')"
   ]
  },
  {
   "cell_type": "code",
   "execution_count": null,
   "metadata": {},
   "outputs": [],
   "source": []
  }
 ],
 "metadata": {
  "kernelspec": {
   "display_name": "Python 3",
   "language": "python",
   "name": "python3"
  },
  "language_info": {
   "codemirror_mode": {
    "name": "ipython",
    "version": 3
   },
   "file_extension": ".py",
   "mimetype": "text/x-python",
   "name": "python",
   "nbconvert_exporter": "python",
   "pygments_lexer": "ipython3",
   "version": "3.6.6"
  }
 },
 "nbformat": 4,
 "nbformat_minor": 2
}
