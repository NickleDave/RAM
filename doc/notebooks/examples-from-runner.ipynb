{
 "cells": [
  {
   "cell_type": "code",
   "execution_count": 6,
   "metadata": {},
   "outputs": [],
   "source": [
    "import numpy as np\n",
    "import ram"
   ]
  },
  {
   "cell_type": "code",
   "execution_count": 22,
   "metadata": {},
   "outputs": [],
   "source": [
    "patch_sizes = ram.utils.compute_patch_sizes(8,1,1)"
   ]
  },
  {
   "cell_type": "code",
   "execution_count": 9,
   "metadata": {},
   "outputs": [],
   "source": [
    "examples_dir = '/home/bart/Documents/data/RAM_output/RAM_results_190422_190653/run_results_190706_184546/replicate_1/examples'\n",
    "glimpses, fixations, locations, images, labels, predictions = ram.utils.get_example_arrs(\n",
    "    suffix='_from_run',examples_dir=examples_dir\n",
    ")"
   ]
  },
  {
   "cell_type": "code",
   "execution_count": 19,
   "metadata": {},
   "outputs": [],
   "source": [
    "NUM_SAMPLES_PER_BATCH = 500\n",
    "NUM_MC_EPISODES = 10\n",
    "\n",
    "zero_inds = np.where(labels==0)[0]\n",
    "first_zero_ind = zero_inds[0]\n",
    "that_zero_all_episodes = [first_zero_ind + (NUM_SAMPLES_PER_BATCH * episode) for episode in range(NUM_MC_EPISODES)]"
   ]
  },
  {
   "cell_type": "code",
   "execution_count": 25,
   "metadata": {},
   "outputs": [
    {
     "data": {
      "text/plain": [
       "(10, 28, 28, 1)"
      ]
     },
     "execution_count": 25,
     "metadata": {},
     "output_type": "execute_result"
    }
   ],
   "source": [
    "images[that_zero_all_episodes].shape"
   ]
  },
  {
   "cell_type": "code",
   "execution_count": 26,
   "metadata": {},
   "outputs": [
    {
     "data": {
      "image/png": "[encoded data removed]",
      "text/plain": [
       "<Figure size 432x288 with 20 Axes>"
      ]
     },
     "metadata": {
      "needs_background": "light"
     },
     "output_type": "display_data"
    }
   ],
   "source": [
    "ram.plot.examples(fixations[that_zero_all_episodes],\n",
    "                  images[that_zero_all_episodes],\n",
    "                  patch_sizes,\n",
    "                  save_as='run_results_test.mp4',\n",
    "                  predictions=predictions[that_zero_all_episodes],\n",
    "                  glimpses=glimpses[that_zero_all_episodes],\n",
    "                  denormalize_imgs=False)"
   ]
  },
  {
   "cell_type": "code",
   "execution_count": 5,
   "metadata": {},
   "outputs": [],
   "source": [
    "examples_dir = '/home/bart/Documents/data/RAM_output/RAM_results_190422_190653/test_results_190423_091259/replicate_1/examples'\n",
    "glimpses, fixations, images, predictions = ram.utils.get_example_arrs(epoch='test',examples_dir=examples_dir,num_examples_to_show=9)"
   ]
  },
  {
   "cell_type": "code",
   "execution_count": 6,
   "metadata": {},
   "outputs": [
    {
     "data": {
      "image/png": "[encoded data removed]",
      "text/plain": [
       "<Figure size 432x288 with 18 Axes>"
      ]
     },
     "metadata": {
      "needs_background": "light"
     },
     "output_type": "display_data"
    }
   ],
   "source": [
    "ram.plot.examples(fixations, images, patch_sizes, save_as='test_results_190423_091259.mp4', predictions=predictions, glimpses=glimpses, denormalize_imgs=False)"
   ]
  },
  {
   "cell_type": "code",
   "execution_count": null,
   "metadata": {},
   "outputs": [],
   "source": []
  }
 ],
 "metadata": {
  "kernelspec": {
   "display_name": "Python 3",
   "language": "python",
   "name": "python3"
  },
  "language_info": {
   "codemirror_mode": {
    "name": "ipython",
    "version": 3
   },
   "file_extension": ".py",
   "mimetype": "text/x-python",
   "name": "python",
   "nbconvert_exporter": "python",
   "pygments_lexer": "ipython3",
   "version": "3.6.8"
  }
 },
 "nbformat": 4,
 "nbformat_minor": 2
}
