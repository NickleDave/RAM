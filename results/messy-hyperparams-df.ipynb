{
 "cells": [
  {
   "cell_type": "code",
   "execution_count": 17,
   "metadata": {},
   "outputs": [],
   "source": [
    "import numpy as np\n",
    "import pandas as pd\n",
    "import matplotlib.pyplot as plt\n",
    "import seaborn as sns"
   ]
  },
  {
   "cell_type": "code",
   "execution_count": 32,
   "metadata": {},
   "outputs": [],
   "source": [
    "df_test = pd.read_csv('test_acc_v_hyperparams.csv')"
   ]
  },
  {
   "cell_type": "code",
   "execution_count": 35,
   "metadata": {},
   "outputs": [
    {
     "data": {
      "text/plain": [
       "'[  nan   nan 89.11]'"
      ]
     },
     "execution_count": 35,
     "metadata": {},
     "output_type": "execute_result"
    }
   ],
   "source": [
    "df_test['test_acc'][0]"
   ]
  },
  {
   "cell_type": "code",
   "execution_count": 15,
   "metadata": {},
   "outputs": [],
   "source": [
    "test_acc = df['test_acc'].values"
   ]
  },
  {
   "cell_type": "code",
   "execution_count": 19,
   "metadata": {},
   "outputs": [],
   "source": [
    "test_acc = [\n",
    "    [np.nan, np.nan, 89.11],\n",
    "    [89.51, 90.03],\n",
    "    [73.8],\n",
    "    [np.nan, 78.07],\n",
    "    [91.95],\n",
    "    [93.97],\n",
    "]"
   ]
  },
  {
   "cell_type": "code",
   "execution_count": 21,
   "metadata": {},
   "outputs": [],
   "source": [
    "test_acc = [np.asarray(arr) for arr in test_acc]"
   ]
  },
  {
   "cell_type": "code",
   "execution_count": 36,
   "metadata": {},
   "outputs": [
    {
     "data": {
      "text/plain": [
       "array([array([  nan,   nan, 89.11]), array([89.51, 90.03]), array([73.8]),\n",
       "       array([  nan, 78.07]), array([91.95]), array([93.97])],\n",
       "      dtype=object)"
      ]
     },
     "execution_count": 36,
     "metadata": {},
     "output_type": "execute_result"
    }
   ],
   "source": [
    "df['test_acc'].values"
   ]
  },
  {
   "cell_type": "code",
   "execution_count": 31,
   "metadata": {},
   "outputs": [],
   "source": [
    "df.to_csv('test_acc_v_hyperparams.csv', index=False)"
   ]
  },
  {
   "cell_type": "code",
   "execution_count": 37,
   "metadata": {},
   "outputs": [
    {
     "data": {
      "text/html": [
       "<div>\n",
       "<style scoped>\n",
       "    .dataframe tbody tr th:only-of-type {\n",
       "        vertical-align: middle;\n",
       "    }\n",
       "\n",
       "    .dataframe tbody tr th {\n",
       "        vertical-align: top;\n",
       "    }\n",
       "\n",
       "    .dataframe thead th {\n",
       "        text-align: right;\n",
       "    }\n",
       "</style>\n",
       "<table border=\"1\" class=\"dataframe\">\n",
       "  <thead>\n",
       "    <tr style=\"text-align: right;\">\n",
       "      <th></th>\n",
       "      <th>config</th>\n",
       "      <th>lr</th>\n",
       "      <th>std</th>\n",
       "      <th>test_acc</th>\n",
       "    </tr>\n",
       "  </thead>\n",
       "  <tbody>\n",
       "    <tr>\n",
       "      <th>0</th>\n",
       "      <td>RAM_config_2019-04-20-2317-MNIST.ini</td>\n",
       "      <td>0.010</td>\n",
       "      <td>0.50</td>\n",
       "      <td>[nan, nan, 89.11]</td>\n",
       "    </tr>\n",
       "    <tr>\n",
       "      <th>1</th>\n",
       "      <td>RAM_config_2019-04-21-1925-MNIST.ini</td>\n",
       "      <td>0.001</td>\n",
       "      <td>0.15</td>\n",
       "      <td>[89.51, 90.03]</td>\n",
       "    </tr>\n",
       "    <tr>\n",
       "      <th>2</th>\n",
       "      <td>RAM_config_2019-04-20-2315-MNIST.ini</td>\n",
       "      <td>0.001</td>\n",
       "      <td>1.00</td>\n",
       "      <td>[73.8]</td>\n",
       "    </tr>\n",
       "    <tr>\n",
       "      <th>3</th>\n",
       "      <td>RAM_config_2019-04-20-1549-MNIST.ini</td>\n",
       "      <td>0.001</td>\n",
       "      <td>0.50</td>\n",
       "      <td>[nan, 78.07]</td>\n",
       "    </tr>\n",
       "    <tr>\n",
       "      <th>4</th>\n",
       "      <td>RAM_config_2019-04-22-1519-MNIST.ini</td>\n",
       "      <td>0.010</td>\n",
       "      <td>0.10</td>\n",
       "      <td>[91.95]</td>\n",
       "    </tr>\n",
       "    <tr>\n",
       "      <th>5</th>\n",
       "      <td>RAM_config_2019-04-22-1724-MNIST.ini</td>\n",
       "      <td>0.010</td>\n",
       "      <td>0.20</td>\n",
       "      <td>[93.97]</td>\n",
       "    </tr>\n",
       "  </tbody>\n",
       "</table>\n",
       "</div>"
      ],
      "text/plain": [
       "                                 config     lr   std           test_acc\n",
       "0  RAM_config_2019-04-20-2317-MNIST.ini  0.010  0.50  [nan, nan, 89.11]\n",
       "1  RAM_config_2019-04-21-1925-MNIST.ini  0.001  0.15     [89.51, 90.03]\n",
       "2  RAM_config_2019-04-20-2315-MNIST.ini  0.001  1.00             [73.8]\n",
       "3  RAM_config_2019-04-20-1549-MNIST.ini  0.001  0.50       [nan, 78.07]\n",
       "4  RAM_config_2019-04-22-1519-MNIST.ini  0.010  0.10            [91.95]\n",
       "5  RAM_config_2019-04-22-1724-MNIST.ini  0.010  0.20            [93.97]"
      ]
     },
     "execution_count": 37,
     "metadata": {},
     "output_type": "execute_result"
    }
   ],
   "source": [
    "df"
   ]
  },
  {
   "cell_type": "code",
   "execution_count": 41,
   "metadata": {},
   "outputs": [
    {
     "name": "stdout",
     "output_type": "stream",
     "text": [
      "Pandas(Index=0, config='RAM_config_2019-04-20-2317-MNIST.ini', lr=0.01, std=0.5, test_acc=array([  nan,   nan, 89.11]))\n",
      "Pandas(Index=1, config='RAM_config_2019-04-21-1925-MNIST.ini', lr=0.001, std=0.15, test_acc=array([89.51, 90.03]))\n",
      "Pandas(Index=2, config='RAM_config_2019-04-20-2315-MNIST.ini', lr=0.001, std=1.0, test_acc=array([73.8]))\n",
      "Pandas(Index=3, config='RAM_config_2019-04-20-1549-MNIST.ini', lr=0.001, std=0.5, test_acc=array([  nan, 78.07]))\n",
      "Pandas(Index=4, config='RAM_config_2019-04-22-1519-MNIST.ini', lr=0.01, std=0.1, test_acc=array([91.95]))\n",
      "Pandas(Index=5, config='RAM_config_2019-04-22-1724-MNIST.ini', lr=0.01, std=0.2, test_acc=array([93.97]))\n"
     ]
    }
   ],
   "source": [
    "rows = []\n",
    "for tup in df.itertuples():\n",
    "    print(tup)\n",
    "    for test_acc_val in tup.test_acc:\n",
    "        row = {'config': tup.config, 'lr': tup.lr, 'std': tup.std, 'test_acc': test_acc_val}\n",
    "        rows.append(row)"
   ]
  },
  {
   "cell_type": "code",
   "execution_count": 44,
   "metadata": {},
   "outputs": [],
   "source": [
    "df_rows = pd.DataFrame.from_dict(rows)"
   ]
  },
  {
   "cell_type": "code",
   "execution_count": 47,
   "metadata": {},
   "outputs": [
    {
     "data": {
      "text/html": [
       "<div>\n",
       "<style scoped>\n",
       "    .dataframe tbody tr th:only-of-type {\n",
       "        vertical-align: middle;\n",
       "    }\n",
       "\n",
       "    .dataframe tbody tr th {\n",
       "        vertical-align: top;\n",
       "    }\n",
       "\n",
       "    .dataframe thead th {\n",
       "        text-align: right;\n",
       "    }\n",
       "</style>\n",
       "<table border=\"1\" class=\"dataframe\">\n",
       "  <thead>\n",
       "    <tr style=\"text-align: right;\">\n",
       "      <th></th>\n",
       "      <th>config</th>\n",
       "      <th>lr</th>\n",
       "      <th>std</th>\n",
       "      <th>test_acc</th>\n",
       "    </tr>\n",
       "  </thead>\n",
       "  <tbody>\n",
       "    <tr>\n",
       "      <th>9</th>\n",
       "      <td>RAM_config_2019-04-22-1724-MNIST.ini</td>\n",
       "      <td>0.010</td>\n",
       "      <td>0.20</td>\n",
       "      <td>93.97</td>\n",
       "    </tr>\n",
       "    <tr>\n",
       "      <th>8</th>\n",
       "      <td>RAM_config_2019-04-22-1519-MNIST.ini</td>\n",
       "      <td>0.010</td>\n",
       "      <td>0.10</td>\n",
       "      <td>91.95</td>\n",
       "    </tr>\n",
       "    <tr>\n",
       "      <th>4</th>\n",
       "      <td>RAM_config_2019-04-21-1925-MNIST.ini</td>\n",
       "      <td>0.001</td>\n",
       "      <td>0.15</td>\n",
       "      <td>90.03</td>\n",
       "    </tr>\n",
       "    <tr>\n",
       "      <th>3</th>\n",
       "      <td>RAM_config_2019-04-21-1925-MNIST.ini</td>\n",
       "      <td>0.001</td>\n",
       "      <td>0.15</td>\n",
       "      <td>89.51</td>\n",
       "    </tr>\n",
       "    <tr>\n",
       "      <th>2</th>\n",
       "      <td>RAM_config_2019-04-20-2317-MNIST.ini</td>\n",
       "      <td>0.010</td>\n",
       "      <td>0.50</td>\n",
       "      <td>89.11</td>\n",
       "    </tr>\n",
       "    <tr>\n",
       "      <th>7</th>\n",
       "      <td>RAM_config_2019-04-20-1549-MNIST.ini</td>\n",
       "      <td>0.001</td>\n",
       "      <td>0.50</td>\n",
       "      <td>78.07</td>\n",
       "    </tr>\n",
       "    <tr>\n",
       "      <th>5</th>\n",
       "      <td>RAM_config_2019-04-20-2315-MNIST.ini</td>\n",
       "      <td>0.001</td>\n",
       "      <td>1.00</td>\n",
       "      <td>73.80</td>\n",
       "    </tr>\n",
       "    <tr>\n",
       "      <th>0</th>\n",
       "      <td>RAM_config_2019-04-20-2317-MNIST.ini</td>\n",
       "      <td>0.010</td>\n",
       "      <td>0.50</td>\n",
       "      <td>NaN</td>\n",
       "    </tr>\n",
       "    <tr>\n",
       "      <th>1</th>\n",
       "      <td>RAM_config_2019-04-20-2317-MNIST.ini</td>\n",
       "      <td>0.010</td>\n",
       "      <td>0.50</td>\n",
       "      <td>NaN</td>\n",
       "    </tr>\n",
       "    <tr>\n",
       "      <th>6</th>\n",
       "      <td>RAM_config_2019-04-20-1549-MNIST.ini</td>\n",
       "      <td>0.001</td>\n",
       "      <td>0.50</td>\n",
       "      <td>NaN</td>\n",
       "    </tr>\n",
       "  </tbody>\n",
       "</table>\n",
       "</div>"
      ],
      "text/plain": [
       "                                 config     lr   std  test_acc\n",
       "9  RAM_config_2019-04-22-1724-MNIST.ini  0.010  0.20     93.97\n",
       "8  RAM_config_2019-04-22-1519-MNIST.ini  0.010  0.10     91.95\n",
       "4  RAM_config_2019-04-21-1925-MNIST.ini  0.001  0.15     90.03\n",
       "3  RAM_config_2019-04-21-1925-MNIST.ini  0.001  0.15     89.51\n",
       "2  RAM_config_2019-04-20-2317-MNIST.ini  0.010  0.50     89.11\n",
       "7  RAM_config_2019-04-20-1549-MNIST.ini  0.001  0.50     78.07\n",
       "5  RAM_config_2019-04-20-2315-MNIST.ini  0.001  1.00     73.80\n",
       "0  RAM_config_2019-04-20-2317-MNIST.ini  0.010  0.50       NaN\n",
       "1  RAM_config_2019-04-20-2317-MNIST.ini  0.010  0.50       NaN\n",
       "6  RAM_config_2019-04-20-1549-MNIST.ini  0.001  0.50       NaN"
      ]
     },
     "execution_count": 47,
     "metadata": {},
     "output_type": "execute_result"
    }
   ],
   "source": [
    "df_rows.sort_values('test_acc', ascending=False)"
   ]
  },
  {
   "cell_type": "code",
   "execution_count": 48,
   "metadata": {},
   "outputs": [],
   "source": [
    "df_rows_copy = df_rows.copy(deep=True)"
   ]
  },
  {
   "cell_type": "code",
   "execution_count": 50,
   "metadata": {},
   "outputs": [],
   "source": [
    "df_rows.columns = ['config', 'learning rate', 'standard deviation', 'accuracy (test)']"
   ]
  },
  {
   "cell_type": "code",
   "execution_count": 55,
   "metadata": {},
   "outputs": [
    {
     "data": {
      "text/html": [
       "<div>\n",
       "<style scoped>\n",
       "    .dataframe tbody tr th:only-of-type {\n",
       "        vertical-align: middle;\n",
       "    }\n",
       "\n",
       "    .dataframe tbody tr th {\n",
       "        vertical-align: top;\n",
       "    }\n",
       "\n",
       "    .dataframe thead th {\n",
       "        text-align: right;\n",
       "    }\n",
       "</style>\n",
       "<table border=\"1\" class=\"dataframe\">\n",
       "  <thead>\n",
       "    <tr style=\"text-align: right;\">\n",
       "      <th></th>\n",
       "      <th>learning rate</th>\n",
       "      <th>standard deviation</th>\n",
       "      <th>accuracy (test)</th>\n",
       "    </tr>\n",
       "  </thead>\n",
       "  <tbody>\n",
       "    <tr>\n",
       "      <th>9</th>\n",
       "      <td>0.010</td>\n",
       "      <td>0.20</td>\n",
       "      <td>93.97</td>\n",
       "    </tr>\n",
       "    <tr>\n",
       "      <th>8</th>\n",
       "      <td>0.010</td>\n",
       "      <td>0.10</td>\n",
       "      <td>91.95</td>\n",
       "    </tr>\n",
       "    <tr>\n",
       "      <th>4</th>\n",
       "      <td>0.001</td>\n",
       "      <td>0.15</td>\n",
       "      <td>90.03</td>\n",
       "    </tr>\n",
       "    <tr>\n",
       "      <th>3</th>\n",
       "      <td>0.001</td>\n",
       "      <td>0.15</td>\n",
       "      <td>89.51</td>\n",
       "    </tr>\n",
       "    <tr>\n",
       "      <th>2</th>\n",
       "      <td>0.010</td>\n",
       "      <td>0.50</td>\n",
       "      <td>89.11</td>\n",
       "    </tr>\n",
       "    <tr>\n",
       "      <th>7</th>\n",
       "      <td>0.001</td>\n",
       "      <td>0.50</td>\n",
       "      <td>78.07</td>\n",
       "    </tr>\n",
       "    <tr>\n",
       "      <th>5</th>\n",
       "      <td>0.001</td>\n",
       "      <td>1.00</td>\n",
       "      <td>73.80</td>\n",
       "    </tr>\n",
       "    <tr>\n",
       "      <th>0</th>\n",
       "      <td>0.010</td>\n",
       "      <td>0.50</td>\n",
       "      <td>NaN</td>\n",
       "    </tr>\n",
       "    <tr>\n",
       "      <th>1</th>\n",
       "      <td>0.010</td>\n",
       "      <td>0.50</td>\n",
       "      <td>NaN</td>\n",
       "    </tr>\n",
       "    <tr>\n",
       "      <th>6</th>\n",
       "      <td>0.001</td>\n",
       "      <td>0.50</td>\n",
       "      <td>NaN</td>\n",
       "    </tr>\n",
       "  </tbody>\n",
       "</table>\n",
       "</div>"
      ],
      "text/plain": [
       "   learning rate  standard deviation  accuracy (test)\n",
       "9          0.010                0.20            93.97\n",
       "8          0.010                0.10            91.95\n",
       "4          0.001                0.15            90.03\n",
       "3          0.001                0.15            89.51\n",
       "2          0.010                0.50            89.11\n",
       "7          0.001                0.50            78.07\n",
       "5          0.001                1.00            73.80\n",
       "0          0.010                0.50              NaN\n",
       "1          0.010                0.50              NaN\n",
       "6          0.001                0.50              NaN"
      ]
     },
     "execution_count": 55,
     "metadata": {},
     "output_type": "execute_result"
    }
   ],
   "source": [
    "df_rows[['learning rate', 'standard deviation', 'accuracy (test)']].sort_values('accuracy (test)', ascending=False)"
   ]
  },
  {
   "cell_type": "code",
   "execution_count": null,
   "metadata": {},
   "outputs": [],
   "source": []
  }
 ],
 "metadata": {
  "kernelspec": {
   "display_name": "Python 3",
   "language": "python",
   "name": "python3"
  },
  "language_info": {
   "codemirror_mode": {
    "name": "ipython",
    "version": 3
   },
   "file_extension": ".py",
   "mimetype": "text/x-python",
   "name": "python",
   "nbconvert_exporter": "python",
   "pygments_lexer": "ipython3",
   "version": "3.7.1"
  }
 },
 "nbformat": 4,
 "nbformat_minor": 2
}
